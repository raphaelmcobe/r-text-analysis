{
 "cells": [
  {
   "cell_type": "code",
   "execution_count": 1,
   "metadata": {},
   "outputs": [],
   "source": [
    "review_data <- read.csv(file = \"./b2w-10k.csv\")"
   ]
  },
  {
   "cell_type": "code",
   "execution_count": 2,
   "metadata": {},
   "outputs": [
    {
     "data": {
      "text/html": [
       "<table>\n",
       "<thead><tr><th scope=col>submission_date</th><th scope=col>reviewer_id</th><th scope=col>product_id</th><th scope=col>product_name</th><th scope=col>product_brand</th><th scope=col>site_category_lv1</th><th scope=col>site_category_lv2</th><th scope=col>review_title</th><th scope=col>overall_rating</th><th scope=col>recommend_to_a_friend</th><th scope=col>review_text</th><th scope=col>reviewer_birth_year</th><th scope=col>reviewer_gender</th><th scope=col>reviewer_state</th><th scope=col>X</th><th scope=col>X.1</th><th scope=col>X.2</th><th scope=col>X.3</th><th scope=col>X.4</th></tr></thead>\n",
       "<tbody>\n",
       "\t<tr><td>2018-01-01 00:11:28                                                                                                                                                                                                                         </td><td>d0fb1ca69422530334178f5c8624aa7a99da47907c44de0243719b15d50623ce                                                                                                                                                                            </td><td>132532965                                                                                                                                                                                                                                   </td><td>Notebook Asus Vivobook Max X541NA-GO472T Intel Celeron Quad Core 4GB 500GB Tela LED 15,6\" Windows - 10 Branco                                                                                                                               </td><td>null                                                                                                                                                                                                                                        </td><td>Informática                                                                                                                                                                                                                                 </td><td>Notebook                                                                                                                                                                                                                                    </td><td>Bom                                                                                                                                                                                                                                         </td><td>4                                                                                                                                                                                                                                           </td><td>Yes                                                                                                                                                                                                                                         </td><td>Estou contente com a compra entrega rápida o único problema com as Americanas é se houver troca ou devolução do produto o consumidor tem problemas com espera.                                                                              </td><td>1958                                                                                                                                                                                                                                        </td><td>F                                                                                                                                                                                                                                           </td><td>RJ                                                                                                                                                                                                                                          </td><td>                                                                                                                                                                                                                                            </td><td>                                                                                                                                                                                                                                            </td><td>                                                                                                                                                                                                                                            </td><td>                                                                                                                                                                                                                                            </td><td>                                                                                                                                                                                                                                            </td></tr>\n",
       "\t<tr><td>2018-01-01 00:13:48                                                                                                                                                                                                                         </td><td>014d6dc5a10aed1ff1e6f349fb2b059a2d3de511c7538a9008da562ead5f5ecd                                                                                                                                                                            </td><td> 22562178                                                                                                                                                                                                                                   </td><td>Copo Acrílico Com Canudo 500ml Rocie                                                                                                                                                                                                        </td><td>null                                                                                                                                                                                                                                        </td><td>Utilidades Domésticas                                                                                                                                                                                                                       </td><td>Copos, Taças e Canecas                                                                                                                                                                                                                      </td><td>Preço imbatível, ótima qualidade                                                                                                                                                                                                            </td><td>4                                                                                                                                                                                                                                           </td><td>Yes                                                                                                                                                                                                                                         </td><td>Por apenas R$1994.20,eu consegui comprar esse lindo copo de acrílico.                                                                                                                                                                       </td><td>1996                                                                                                                                                                                                                                        </td><td>M                                                                                                                                                                                                                                           </td><td>SC                                                                                                                                                                                                                                          </td><td>                                                                                                                                                                                                                                            </td><td>                                                                                                                                                                                                                                            </td><td>                                                                                                                                                                                                                                            </td><td>                                                                                                                                                                                                                                            </td><td>                                                                                                                                                                                                                                            </td></tr>\n",
       "\t<tr><td>2018-01-01 00:26:02                                                                                                                                                                                                                         </td><td>44f2c8edd93471926fff601274b8b2b5c4824e386ae4f210329b9b71890277fd                                                                                                                                                                            </td><td>113022329                                                                                                                                                                                                                                   </td><td>Panela de Pressão Elétrica Philips Walita Daily 5L com Timer                                                                                                                                                                                </td><td>philips walita                                                                                                                                                                                                                              </td><td>Eletroportáteis                                                                                                                                                                                                                             </td><td>Panela Elétrica                                                                                                                                                                                                                             </td><td>ATENDE TODAS AS EXPECTATIVA.                                                                                                                                                                                                                </td><td>4                                                                                                                                                                                                                                           </td><td>Yes                                                                                                                                                                                                                                         </td><td>SUPERA EM AGILIDADE E PRATICIDADE OUTRAS PANELAS ELÉTRICAS.  COSTUMO USAR OUTRA PANELA PARA COZIMENTO DE ARROZ (JAPONESA), MAS LEVA MUITO TEMPO,  +/- 50 MINUTOS.  NESSA PANELA  É MUITO MAIS RÁPIDO, EXATAMENTE 6 MINUTOS.    EU RECOMENDO.</td><td>1984                                                                                                                                                                                                                                        </td><td>M                                                                                                                                                                                                                                           </td><td>SP                                                                                                                                                                                                                                          </td><td>                                                                                                                                                                                                                                            </td><td>                                                                                                                                                                                                                                            </td><td>                                                                                                                                                                                                                                            </td><td>                                                                                                                                                                                                                                            </td><td>                                                                                                                                                                                                                                            </td></tr>\n",
       "\t<tr><td>2018-01-01 00:35:54                                                                                                                                                                                                                         </td><td>ce741665c1764ab2d77539e18d0e4f66dde6213c9f0863f165ffedb1e8147984                                                                                                                                                                            </td><td>113851581                                                                                                                                                                                                                                   </td><td>Betoneira Columbus - Roma Brinquedos                                                                                                                                                                                                        </td><td>roma jensen                                                                                                                                                                                                                                 </td><td>Brinquedos                                                                                                                                                                                                                                  </td><td>Veículos de Brinquedo                                                                                                                                                                                                                       </td><td>presente mais que desejado                                                                                                                                                                                                                  </td><td>4                                                                                                                                                                                                                                           </td><td>Yes                                                                                                                                                                                                                                         </td><td>MEU FILHO AMOU! PARECE DE VERDADE COM TANTOS DETALHES QUE TÊM!                                                                                                                                                                              </td><td>1985                                                                                                                                                                                                                                        </td><td>F                                                                                                                                                                                                                                           </td><td>SP                                                                                                                                                                                                                                          </td><td>                                                                                                                                                                                                                                            </td><td>                                                                                                                                                                                                                                            </td><td>                                                                                                                                                                                                                                            </td><td>                                                                                                                                                                                                                                            </td><td>                                                                                                                                                                                                                                            </td></tr>\n",
       "\t<tr><td>2018-01-01 01:00:28                                                                                                                                                                                                                         </td><td>7d7b6b18dda804a897359276cef0ca252f9932bf4b5c8e72bce7e88850efa0fc                                                                                                                                                                            </td><td>131788803                                                                                                                                                                                                                                   </td><td>Smart TV LED 43\" LG 43UJ6525 Ultra HD 4K com Conversor Digital 4 HDMI 2 USB WebOS 3.5 Painel Ips HDR e Magic Mobile Connection                                                                                                              </td><td>lg                                                                                                                                                                                                                                          </td><td>TV e Home Theater                                                                                                                                                                                                                           </td><td>TV                                                                                                                                                                                                                                          </td><td>Sem duvidas, excelente                                                                                                                                                                                                                      </td><td>5                                                                                                                                                                                                                                           </td><td>Yes                                                                                                                                                                                                                                         </td><td>A entrega foi no prazo, as americanas estão de parabéns. A smart tv é muito boa, a navegação na internete e pelos aplicativos e excelente, não trava, sem falar da imagem que é de surpreender. recomendo.                                  </td><td>1994                                                                                                                                                                                                                                        </td><td>M                                                                                                                                                                                                                                           </td><td>MG                                                                                                                                                                                                                                          </td><td>                                                                                                                                                                                                                                            </td><td>                                                                                                                                                                                                                                            </td><td>                                                                                                                                                                                                                                            </td><td>                                                                                                                                                                                                                                            </td><td>                                                                                                                                                                                                                                            </td></tr>\n",
       "\t<tr><td>2018-01-01 01:27:23                                                                                                                                                                                                                         </td><td>28b1844e1cd24dd2288b7cafb052a0b46aed53ab28e1c11632e3a2297a64aad8                                                                                                                                                                            </td><td> 22562178                                                                                                                                                                                                                                   </td><td>Copo Acrílico Com Canudo 500ml Rocie                                                                                                                                                                                                        </td><td>null                                                                                                                                                                                                                                        </td><td>Utilidades Domésticas                                                                                                                                                                                                                       </td><td>Copos, Taças e Canecas                                                                                                                                                                                                                      </td><td>Produto imperdível                                                                                                                                                                                                                          </td><td>5                                                                                                                                                                                                                                           </td><td>Yes                                                                                                                                                                                                                                         </td><td>Excelente produto, por fora em material acrílico super resistente e por dentro em adamantio, faz milagre com qualquer bebida. Sugiro aproveitarem a promoção antes que acabe.                                                               </td><td>1979                                                                                                                                                                                                                                        </td><td>M                                                                                                                                                                                                                                           </td><td>PA                                                                                                                                                                                                                                          </td><td>                                                                                                                                                                                                                                            </td><td>                                                                                                                                                                                                                                            </td><td>                                                                                                                                                                                                                                            </td><td>                                                                                                                                                                                                                                            </td><td>                                                                                                                                                                                                                                            </td></tr>\n",
       "</tbody>\n",
       "</table>\n"
      ],
      "text/latex": [
       "\\begin{tabular}{r|lllllllllllllllllll}\n",
       " submission\\_date & reviewer\\_id & product\\_id & product\\_name & product\\_brand & site\\_category\\_lv1 & site\\_category\\_lv2 & review\\_title & overall\\_rating & recommend\\_to\\_a\\_friend & review\\_text & reviewer\\_birth\\_year & reviewer\\_gender & reviewer\\_state & X & X.1 & X.2 & X.3 & X.4\\\\\n",
       "\\hline\n",
       "\t 2018-01-01 00:11:28                                                                                                                                                                                                                          & d0fb1ca69422530334178f5c8624aa7a99da47907c44de0243719b15d50623ce                                                                                                                                                                             & 132532965                                                                                                                                                                                                                                    & Notebook Asus Vivobook Max X541NA-GO472T Intel Celeron Quad Core 4GB 500GB Tela LED 15,6\" Windows - 10 Branco                                                                                                                                & null                                                                                                                                                                                                                                         & Informática                                                                                                                                                                                                                                  & Notebook                                                                                                                                                                                                                                     & Bom                                                                                                                                                                                                                                          & 4                                                                                                                                                                                                                                            & Yes                                                                                                                                                                                                                                          & Estou contente com a compra entrega rápida o único problema com as Americanas é se houver troca ou devolução do produto o consumidor tem problemas com espera.                                                                               & 1958                                                                                                                                                                                                                                         & F                                                                                                                                                                                                                                            & RJ                                                                                                                                                                                                                                           &                                                                                                                                                                                                                                              &                                                                                                                                                                                                                                              &                                                                                                                                                                                                                                              &                                                                                                                                                                                                                                              &                                                                                                                                                                                                                                             \\\\\n",
       "\t 2018-01-01 00:13:48                                                                                                                                                                                                                            & 014d6dc5a10aed1ff1e6f349fb2b059a2d3de511c7538a9008da562ead5f5ecd                                                                                                                                                                               &  22562178                                                                                                                                                                                                                                      & Copo Acrílico Com Canudo 500ml Rocie                                                                                                                                                                                                           & null                                                                                                                                                                                                                                           & Utilidades Domésticas                                                                                                                                                                                                                          & Copos, Taças e Canecas                                                                                                                                                                                                                         & Preço imbatível, ótima qualidade                                                                                                                                                                                                               & 4                                                                                                                                                                                                                                              & Yes                                                                                                                                                                                                                                            & Por apenas R\\$1994.20,eu consegui comprar esse lindo copo de acrílico.                                                                                                                                                                        & 1996                                                                                                                                                                                                                                           & M                                                                                                                                                                                                                                              & SC                                                                                                                                                                                                                                             &                                                                                                                                                                                                                                                &                                                                                                                                                                                                                                                &                                                                                                                                                                                                                                                &                                                                                                                                                                                                                                                &                                                                                                                                                                                                                                               \\\\\n",
       "\t 2018-01-01 00:26:02                                                                                                                                                                                                                          & 44f2c8edd93471926fff601274b8b2b5c4824e386ae4f210329b9b71890277fd                                                                                                                                                                             & 113022329                                                                                                                                                                                                                                    & Panela de Pressão Elétrica Philips Walita Daily 5L com Timer                                                                                                                                                                                 & philips walita                                                                                                                                                                                                                               & Eletroportáteis                                                                                                                                                                                                                              & Panela Elétrica                                                                                                                                                                                                                              & ATENDE TODAS AS EXPECTATIVA.                                                                                                                                                                                                                 & 4                                                                                                                                                                                                                                            & Yes                                                                                                                                                                                                                                          & SUPERA EM AGILIDADE E PRATICIDADE OUTRAS PANELAS ELÉTRICAS.  COSTUMO USAR OUTRA PANELA PARA COZIMENTO DE ARROZ (JAPONESA), MAS LEVA MUITO TEMPO,  +/- 50 MINUTOS.  NESSA PANELA  É MUITO MAIS RÁPIDO, EXATAMENTE 6 MINUTOS.    EU RECOMENDO. & 1984                                                                                                                                                                                                                                         & M                                                                                                                                                                                                                                            & SP                                                                                                                                                                                                                                           &                                                                                                                                                                                                                                              &                                                                                                                                                                                                                                              &                                                                                                                                                                                                                                              &                                                                                                                                                                                                                                              &                                                                                                                                                                                                                                             \\\\\n",
       "\t 2018-01-01 00:35:54                                                                                                                                                                                                                          & ce741665c1764ab2d77539e18d0e4f66dde6213c9f0863f165ffedb1e8147984                                                                                                                                                                             & 113851581                                                                                                                                                                                                                                    & Betoneira Columbus - Roma Brinquedos                                                                                                                                                                                                         & roma jensen                                                                                                                                                                                                                                  & Brinquedos                                                                                                                                                                                                                                   & Veículos de Brinquedo                                                                                                                                                                                                                        & presente mais que desejado                                                                                                                                                                                                                   & 4                                                                                                                                                                                                                                            & Yes                                                                                                                                                                                                                                          & MEU FILHO AMOU! PARECE DE VERDADE COM TANTOS DETALHES QUE TÊM!                                                                                                                                                                               & 1985                                                                                                                                                                                                                                         & F                                                                                                                                                                                                                                            & SP                                                                                                                                                                                                                                           &                                                                                                                                                                                                                                              &                                                                                                                                                                                                                                              &                                                                                                                                                                                                                                              &                                                                                                                                                                                                                                              &                                                                                                                                                                                                                                             \\\\\n",
       "\t 2018-01-01 01:00:28                                                                                                                                                                                                                          & 7d7b6b18dda804a897359276cef0ca252f9932bf4b5c8e72bce7e88850efa0fc                                                                                                                                                                             & 131788803                                                                                                                                                                                                                                    & Smart TV LED 43\" LG 43UJ6525 Ultra HD 4K com Conversor Digital 4 HDMI 2 USB WebOS 3.5 Painel Ips HDR e Magic Mobile Connection                                                                                                               & lg                                                                                                                                                                                                                                           & TV e Home Theater                                                                                                                                                                                                                            & TV                                                                                                                                                                                                                                           & Sem duvidas, excelente                                                                                                                                                                                                                       & 5                                                                                                                                                                                                                                            & Yes                                                                                                                                                                                                                                          & A entrega foi no prazo, as americanas estão de parabéns. A smart tv é muito boa, a navegação na internete e pelos aplicativos e excelente, não trava, sem falar da imagem que é de surpreender. recomendo.                                   & 1994                                                                                                                                                                                                                                         & M                                                                                                                                                                                                                                            & MG                                                                                                                                                                                                                                           &                                                                                                                                                                                                                                              &                                                                                                                                                                                                                                              &                                                                                                                                                                                                                                              &                                                                                                                                                                                                                                              &                                                                                                                                                                                                                                             \\\\\n",
       "\t 2018-01-01 01:27:23                                                                                                                                                                                                                          & 28b1844e1cd24dd2288b7cafb052a0b46aed53ab28e1c11632e3a2297a64aad8                                                                                                                                                                             &  22562178                                                                                                                                                                                                                                    & Copo Acrílico Com Canudo 500ml Rocie                                                                                                                                                                                                         & null                                                                                                                                                                                                                                         & Utilidades Domésticas                                                                                                                                                                                                                        & Copos, Taças e Canecas                                                                                                                                                                                                                       & Produto imperdível                                                                                                                                                                                                                           & 5                                                                                                                                                                                                                                            & Yes                                                                                                                                                                                                                                          & Excelente produto, por fora em material acrílico super resistente e por dentro em adamantio, faz milagre com qualquer bebida. Sugiro aproveitarem a promoção antes que acabe.                                                                & 1979                                                                                                                                                                                                                                         & M                                                                                                                                                                                                                                            & PA                                                                                                                                                                                                                                           &                                                                                                                                                                                                                                              &                                                                                                                                                                                                                                              &                                                                                                                                                                                                                                              &                                                                                                                                                                                                                                              &                                                                                                                                                                                                                                             \\\\\n",
       "\\end{tabular}\n"
      ],
      "text/markdown": [
       "\n",
       "| submission_date | reviewer_id | product_id | product_name | product_brand | site_category_lv1 | site_category_lv2 | review_title | overall_rating | recommend_to_a_friend | review_text | reviewer_birth_year | reviewer_gender | reviewer_state | X | X.1 | X.2 | X.3 | X.4 |\n",
       "|---|---|---|---|---|---|---|---|---|---|---|---|---|---|---|---|---|---|---|\n",
       "| 2018-01-01 00:11:28                                                                                                                                                                                                                          | d0fb1ca69422530334178f5c8624aa7a99da47907c44de0243719b15d50623ce                                                                                                                                                                             | 132532965                                                                                                                                                                                                                                    | Notebook Asus Vivobook Max X541NA-GO472T Intel Celeron Quad Core 4GB 500GB Tela LED 15,6\" Windows - 10 Branco                                                                                                                                | null                                                                                                                                                                                                                                         | Informática                                                                                                                                                                                                                                  | Notebook                                                                                                                                                                                                                                     | Bom                                                                                                                                                                                                                                          | 4                                                                                                                                                                                                                                            | Yes                                                                                                                                                                                                                                          | Estou contente com a compra entrega rápida o único problema com as Americanas é se houver troca ou devolução do produto o consumidor tem problemas com espera.                                                                               | 1958                                                                                                                                                                                                                                         | F                                                                                                                                                                                                                                            | RJ                                                                                                                                                                                                                                           |                                                                                                                                                                                                                                              |                                                                                                                                                                                                                                              |                                                                                                                                                                                                                                              |                                                                                                                                                                                                                                              |                                                                                                                                                                                                                                              |\n",
       "| 2018-01-01 00:13:48                                                                                                                                                                                                                          | 014d6dc5a10aed1ff1e6f349fb2b059a2d3de511c7538a9008da562ead5f5ecd                                                                                                                                                                             |  22562178                                                                                                                                                                                                                                    | Copo Acrílico Com Canudo 500ml Rocie                                                                                                                                                                                                         | null                                                                                                                                                                                                                                         | Utilidades Domésticas                                                                                                                                                                                                                        | Copos, Taças e Canecas                                                                                                                                                                                                                       | Preço imbatível, ótima qualidade                                                                                                                                                                                                             | 4                                                                                                                                                                                                                                            | Yes                                                                                                                                                                                                                                          | Por apenas R$1994.20,eu consegui comprar esse lindo copo de acrílico.                                                                                                                                                                        | 1996                                                                                                                                                                                                                                         | M                                                                                                                                                                                                                                            | SC                                                                                                                                                                                                                                           |                                                                                                                                                                                                                                              |                                                                                                                                                                                                                                              |                                                                                                                                                                                                                                              |                                                                                                                                                                                                                                              |                                                                                                                                                                                                                                              |\n",
       "| 2018-01-01 00:26:02                                                                                                                                                                                                                          | 44f2c8edd93471926fff601274b8b2b5c4824e386ae4f210329b9b71890277fd                                                                                                                                                                             | 113022329                                                                                                                                                                                                                                    | Panela de Pressão Elétrica Philips Walita Daily 5L com Timer                                                                                                                                                                                 | philips walita                                                                                                                                                                                                                               | Eletroportáteis                                                                                                                                                                                                                              | Panela Elétrica                                                                                                                                                                                                                              | ATENDE TODAS AS EXPECTATIVA.                                                                                                                                                                                                                 | 4                                                                                                                                                                                                                                            | Yes                                                                                                                                                                                                                                          | SUPERA EM AGILIDADE E PRATICIDADE OUTRAS PANELAS ELÉTRICAS.  COSTUMO USAR OUTRA PANELA PARA COZIMENTO DE ARROZ (JAPONESA), MAS LEVA MUITO TEMPO,  +/- 50 MINUTOS.  NESSA PANELA  É MUITO MAIS RÁPIDO, EXATAMENTE 6 MINUTOS.    EU RECOMENDO. | 1984                                                                                                                                                                                                                                         | M                                                                                                                                                                                                                                            | SP                                                                                                                                                                                                                                           |                                                                                                                                                                                                                                              |                                                                                                                                                                                                                                              |                                                                                                                                                                                                                                              |                                                                                                                                                                                                                                              |                                                                                                                                                                                                                                              |\n",
       "| 2018-01-01 00:35:54                                                                                                                                                                                                                          | ce741665c1764ab2d77539e18d0e4f66dde6213c9f0863f165ffedb1e8147984                                                                                                                                                                             | 113851581                                                                                                                                                                                                                                    | Betoneira Columbus - Roma Brinquedos                                                                                                                                                                                                         | roma jensen                                                                                                                                                                                                                                  | Brinquedos                                                                                                                                                                                                                                   | Veículos de Brinquedo                                                                                                                                                                                                                        | presente mais que desejado                                                                                                                                                                                                                   | 4                                                                                                                                                                                                                                            | Yes                                                                                                                                                                                                                                          | MEU FILHO AMOU! PARECE DE VERDADE COM TANTOS DETALHES QUE TÊM!                                                                                                                                                                               | 1985                                                                                                                                                                                                                                         | F                                                                                                                                                                                                                                            | SP                                                                                                                                                                                                                                           |                                                                                                                                                                                                                                              |                                                                                                                                                                                                                                              |                                                                                                                                                                                                                                              |                                                                                                                                                                                                                                              |                                                                                                                                                                                                                                              |\n",
       "| 2018-01-01 01:00:28                                                                                                                                                                                                                          | 7d7b6b18dda804a897359276cef0ca252f9932bf4b5c8e72bce7e88850efa0fc                                                                                                                                                                             | 131788803                                                                                                                                                                                                                                    | Smart TV LED 43\" LG 43UJ6525 Ultra HD 4K com Conversor Digital 4 HDMI 2 USB WebOS 3.5 Painel Ips HDR e Magic Mobile Connection                                                                                                               | lg                                                                                                                                                                                                                                           | TV e Home Theater                                                                                                                                                                                                                            | TV                                                                                                                                                                                                                                           | Sem duvidas, excelente                                                                                                                                                                                                                       | 5                                                                                                                                                                                                                                            | Yes                                                                                                                                                                                                                                          | A entrega foi no prazo, as americanas estão de parabéns. A smart tv é muito boa, a navegação na internete e pelos aplicativos e excelente, não trava, sem falar da imagem que é de surpreender. recomendo.                                   | 1994                                                                                                                                                                                                                                         | M                                                                                                                                                                                                                                            | MG                                                                                                                                                                                                                                           |                                                                                                                                                                                                                                              |                                                                                                                                                                                                                                              |                                                                                                                                                                                                                                              |                                                                                                                                                                                                                                              |                                                                                                                                                                                                                                              |\n",
       "| 2018-01-01 01:27:23                                                                                                                                                                                                                          | 28b1844e1cd24dd2288b7cafb052a0b46aed53ab28e1c11632e3a2297a64aad8                                                                                                                                                                             |  22562178                                                                                                                                                                                                                                    | Copo Acrílico Com Canudo 500ml Rocie                                                                                                                                                                                                         | null                                                                                                                                                                                                                                         | Utilidades Domésticas                                                                                                                                                                                                                        | Copos, Taças e Canecas                                                                                                                                                                                                                       | Produto imperdível                                                                                                                                                                                                                           | 5                                                                                                                                                                                                                                            | Yes                                                                                                                                                                                                                                          | Excelente produto, por fora em material acrílico super resistente e por dentro em adamantio, faz milagre com qualquer bebida. Sugiro aproveitarem a promoção antes que acabe.                                                                | 1979                                                                                                                                                                                                                                         | M                                                                                                                                                                                                                                            | PA                                                                                                                                                                                                                                           |                                                                                                                                                                                                                                              |                                                                                                                                                                                                                                              |                                                                                                                                                                                                                                              |                                                                                                                                                                                                                                              |                                                                                                                                                                                                                                              |\n",
       "\n"
      ],
      "text/plain": [
       "  submission_date    \n",
       "1 2018-01-01 00:11:28\n",
       "2 2018-01-01 00:13:48\n",
       "3 2018-01-01 00:26:02\n",
       "4 2018-01-01 00:35:54\n",
       "5 2018-01-01 01:00:28\n",
       "6 2018-01-01 01:27:23\n",
       "  reviewer_id                                                      product_id\n",
       "1 d0fb1ca69422530334178f5c8624aa7a99da47907c44de0243719b15d50623ce 132532965 \n",
       "2 014d6dc5a10aed1ff1e6f349fb2b059a2d3de511c7538a9008da562ead5f5ecd  22562178 \n",
       "3 44f2c8edd93471926fff601274b8b2b5c4824e386ae4f210329b9b71890277fd 113022329 \n",
       "4 ce741665c1764ab2d77539e18d0e4f66dde6213c9f0863f165ffedb1e8147984 113851581 \n",
       "5 7d7b6b18dda804a897359276cef0ca252f9932bf4b5c8e72bce7e88850efa0fc 131788803 \n",
       "6 28b1844e1cd24dd2288b7cafb052a0b46aed53ab28e1c11632e3a2297a64aad8  22562178 \n",
       "  product_name                                                                                                                  \n",
       "1 Notebook Asus Vivobook Max X541NA-GO472T Intel Celeron Quad Core 4GB 500GB Tela LED 15,6\" Windows - 10 Branco                 \n",
       "2 Copo Acrílico Com Canudo 500ml Rocie                                                                                          \n",
       "3 Panela de Pressão Elétrica Philips Walita Daily 5L com Timer                                                                  \n",
       "4 Betoneira Columbus - Roma Brinquedos                                                                                          \n",
       "5 Smart TV LED 43\" LG 43UJ6525 Ultra HD 4K com Conversor Digital 4 HDMI 2 USB WebOS 3.5 Painel Ips HDR e Magic Mobile Connection\n",
       "6 Copo Acrílico Com Canudo 500ml Rocie                                                                                          \n",
       "  product_brand  site_category_lv1     site_category_lv2     \n",
       "1 null           Informática           Notebook              \n",
       "2 null           Utilidades Domésticas Copos, Taças e Canecas\n",
       "3 philips walita Eletroportáteis       Panela Elétrica       \n",
       "4 roma jensen    Brinquedos            Veículos de Brinquedo \n",
       "5 lg             TV e Home Theater     TV                    \n",
       "6 null           Utilidades Domésticas Copos, Taças e Canecas\n",
       "  review_title                     overall_rating recommend_to_a_friend\n",
       "1 Bom                              4              Yes                  \n",
       "2 Preço imbatível, ótima qualidade 4              Yes                  \n",
       "3 ATENDE TODAS AS EXPECTATIVA.     4              Yes                  \n",
       "4 presente mais que desejado       4              Yes                  \n",
       "5 Sem duvidas, excelente           5              Yes                  \n",
       "6 Produto imperdível               5              Yes                  \n",
       "  review_text                                                                                                                                                                                                                                 \n",
       "1 Estou contente com a compra entrega rápida o único problema com as Americanas é se houver troca ou devolução do produto o consumidor tem problemas com espera.                                                                              \n",
       "2 Por apenas R$1994.20,eu consegui comprar esse lindo copo de acrílico.                                                                                                                                                                       \n",
       "3 SUPERA EM AGILIDADE E PRATICIDADE OUTRAS PANELAS ELÉTRICAS.  COSTUMO USAR OUTRA PANELA PARA COZIMENTO DE ARROZ (JAPONESA), MAS LEVA MUITO TEMPO,  +/- 50 MINUTOS.  NESSA PANELA  É MUITO MAIS RÁPIDO, EXATAMENTE 6 MINUTOS.    EU RECOMENDO.\n",
       "4 MEU FILHO AMOU! PARECE DE VERDADE COM TANTOS DETALHES QUE TÊM!                                                                                                                                                                              \n",
       "5 A entrega foi no prazo, as americanas estão de parabéns. A smart tv é muito boa, a navegação na internete e pelos aplicativos e excelente, não trava, sem falar da imagem que é de surpreender. recomendo.                                  \n",
       "6 Excelente produto, por fora em material acrílico super resistente e por dentro em adamantio, faz milagre com qualquer bebida. Sugiro aproveitarem a promoção antes que acabe.                                                               \n",
       "  reviewer_birth_year reviewer_gender reviewer_state X X.1 X.2 X.3 X.4\n",
       "1 1958                F               RJ                              \n",
       "2 1996                M               SC                              \n",
       "3 1984                M               SP                              \n",
       "4 1985                F               SP                              \n",
       "5 1994                M               MG                              \n",
       "6 1979                M               PA                              "
      ]
     },
     "metadata": {},
     "output_type": "display_data"
    }
   ],
   "source": [
    "head(review_data)"
   ]
  },
  {
   "cell_type": "code",
   "execution_count": 3,
   "metadata": {},
   "outputs": [],
   "source": [
    "filtered_data <- review_data[,c(11,10)]"
   ]
  },
  {
   "cell_type": "code",
   "execution_count": 4,
   "metadata": {},
   "outputs": [
    {
     "data": {
      "text/html": [
       "<table>\n",
       "<thead><tr><th scope=col>review_text</th><th scope=col>recommend_to_a_friend</th></tr></thead>\n",
       "<tbody>\n",
       "\t<tr><td>Estou contente com a compra entrega rápida o único problema com as Americanas é se houver troca ou devolução do produto o consumidor tem problemas com espera.                                                                              </td><td>Yes                                                                                                                                                                                                                                         </td></tr>\n",
       "\t<tr><td>Por apenas R$1994.20,eu consegui comprar esse lindo copo de acrílico.                                                                                                                                                                       </td><td>Yes                                                                                                                                                                                                                                         </td></tr>\n",
       "\t<tr><td>SUPERA EM AGILIDADE E PRATICIDADE OUTRAS PANELAS ELÉTRICAS.  COSTUMO USAR OUTRA PANELA PARA COZIMENTO DE ARROZ (JAPONESA), MAS LEVA MUITO TEMPO,  +/- 50 MINUTOS.  NESSA PANELA  É MUITO MAIS RÁPIDO, EXATAMENTE 6 MINUTOS.    EU RECOMENDO.</td><td>Yes                                                                                                                                                                                                                                         </td></tr>\n",
       "\t<tr><td>MEU FILHO AMOU! PARECE DE VERDADE COM TANTOS DETALHES QUE TÊM!                                                                                                                                                                              </td><td>Yes                                                                                                                                                                                                                                         </td></tr>\n",
       "\t<tr><td>A entrega foi no prazo, as americanas estão de parabéns. A smart tv é muito boa, a navegação na internete e pelos aplicativos e excelente, não trava, sem falar da imagem que é de surpreender. recomendo.                                  </td><td>Yes                                                                                                                                                                                                                                         </td></tr>\n",
       "\t<tr><td>Excelente produto, por fora em material acrílico super resistente e por dentro em adamantio, faz milagre com qualquer bebida. Sugiro aproveitarem a promoção antes que acabe.                                                               </td><td>Yes                                                                                                                                                                                                                                         </td></tr>\n",
       "</tbody>\n",
       "</table>\n"
      ],
      "text/latex": [
       "\\begin{tabular}{r|ll}\n",
       " review\\_text & recommend\\_to\\_a\\_friend\\\\\n",
       "\\hline\n",
       "\t Estou contente com a compra entrega rápida o único problema com as Americanas é se houver troca ou devolução do produto o consumidor tem problemas com espera.                                                                               & Yes                                                                                                                                                                                                                                         \\\\\n",
       "\t Por apenas R\\$1994.20,eu consegui comprar esse lindo copo de acrílico.                                                                                                                                                                        & Yes                                                                                                                                                                                                                                           \\\\\n",
       "\t SUPERA EM AGILIDADE E PRATICIDADE OUTRAS PANELAS ELÉTRICAS.  COSTUMO USAR OUTRA PANELA PARA COZIMENTO DE ARROZ (JAPONESA), MAS LEVA MUITO TEMPO,  +/- 50 MINUTOS.  NESSA PANELA  É MUITO MAIS RÁPIDO, EXATAMENTE 6 MINUTOS.    EU RECOMENDO. & Yes                                                                                                                                                                                                                                         \\\\\n",
       "\t MEU FILHO AMOU! PARECE DE VERDADE COM TANTOS DETALHES QUE TÊM!                                                                                                                                                                               & Yes                                                                                                                                                                                                                                         \\\\\n",
       "\t A entrega foi no prazo, as americanas estão de parabéns. A smart tv é muito boa, a navegação na internete e pelos aplicativos e excelente, não trava, sem falar da imagem que é de surpreender. recomendo.                                   & Yes                                                                                                                                                                                                                                         \\\\\n",
       "\t Excelente produto, por fora em material acrílico super resistente e por dentro em adamantio, faz milagre com qualquer bebida. Sugiro aproveitarem a promoção antes que acabe.                                                                & Yes                                                                                                                                                                                                                                         \\\\\n",
       "\\end{tabular}\n"
      ],
      "text/markdown": [
       "\n",
       "| review_text | recommend_to_a_friend |\n",
       "|---|---|\n",
       "| Estou contente com a compra entrega rápida o único problema com as Americanas é se houver troca ou devolução do produto o consumidor tem problemas com espera.                                                                               | Yes                                                                                                                                                                                                                                          |\n",
       "| Por apenas R$1994.20,eu consegui comprar esse lindo copo de acrílico.                                                                                                                                                                        | Yes                                                                                                                                                                                                                                          |\n",
       "| SUPERA EM AGILIDADE E PRATICIDADE OUTRAS PANELAS ELÉTRICAS.  COSTUMO USAR OUTRA PANELA PARA COZIMENTO DE ARROZ (JAPONESA), MAS LEVA MUITO TEMPO,  +/- 50 MINUTOS.  NESSA PANELA  É MUITO MAIS RÁPIDO, EXATAMENTE 6 MINUTOS.    EU RECOMENDO. | Yes                                                                                                                                                                                                                                          |\n",
       "| MEU FILHO AMOU! PARECE DE VERDADE COM TANTOS DETALHES QUE TÊM!                                                                                                                                                                               | Yes                                                                                                                                                                                                                                          |\n",
       "| A entrega foi no prazo, as americanas estão de parabéns. A smart tv é muito boa, a navegação na internete e pelos aplicativos e excelente, não trava, sem falar da imagem que é de surpreender. recomendo.                                   | Yes                                                                                                                                                                                                                                          |\n",
       "| Excelente produto, por fora em material acrílico super resistente e por dentro em adamantio, faz milagre com qualquer bebida. Sugiro aproveitarem a promoção antes que acabe.                                                                | Yes                                                                                                                                                                                                                                          |\n",
       "\n"
      ],
      "text/plain": [
       "  review_text                                                                                                                                                                                                                                 \n",
       "1 Estou contente com a compra entrega rápida o único problema com as Americanas é se houver troca ou devolução do produto o consumidor tem problemas com espera.                                                                              \n",
       "2 Por apenas R$1994.20,eu consegui comprar esse lindo copo de acrílico.                                                                                                                                                                       \n",
       "3 SUPERA EM AGILIDADE E PRATICIDADE OUTRAS PANELAS ELÉTRICAS.  COSTUMO USAR OUTRA PANELA PARA COZIMENTO DE ARROZ (JAPONESA), MAS LEVA MUITO TEMPO,  +/- 50 MINUTOS.  NESSA PANELA  É MUITO MAIS RÁPIDO, EXATAMENTE 6 MINUTOS.    EU RECOMENDO.\n",
       "4 MEU FILHO AMOU! PARECE DE VERDADE COM TANTOS DETALHES QUE TÊM!                                                                                                                                                                              \n",
       "5 A entrega foi no prazo, as americanas estão de parabéns. A smart tv é muito boa, a navegação na internete e pelos aplicativos e excelente, não trava, sem falar da imagem que é de surpreender. recomendo.                                  \n",
       "6 Excelente produto, por fora em material acrílico super resistente e por dentro em adamantio, faz milagre com qualquer bebida. Sugiro aproveitarem a promoção antes que acabe.                                                               \n",
       "  recommend_to_a_friend\n",
       "1 Yes                  \n",
       "2 Yes                  \n",
       "3 Yes                  \n",
       "4 Yes                  \n",
       "5 Yes                  \n",
       "6 Yes                  "
      ]
     },
     "metadata": {},
     "output_type": "display_data"
    }
   ],
   "source": [
    "head(filtered_data)"
   ]
  },
  {
   "cell_type": "code",
   "execution_count": 5,
   "metadata": {},
   "outputs": [],
   "source": [
    "filtered_data$score<-ifelse(filtered_data$recommend_to_a_friend==\"Yes\", 1,0)"
   ]
  },
  {
   "cell_type": "code",
   "execution_count": 6,
   "metadata": {},
   "outputs": [],
   "source": [
    "filtered_data <- filtered_data[,c(1,3)]"
   ]
  },
  {
   "cell_type": "code",
   "execution_count": 7,
   "metadata": {},
   "outputs": [],
   "source": [
    "library(stringr)"
   ]
  },
  {
   "cell_type": "code",
   "execution_count": 8,
   "metadata": {},
   "outputs": [],
   "source": [
    "rm_accent <- function(str,pattern=\"all\") {\n",
    "  # Rotinas e funções úteis V 1.0\n",
    "  # rm.accent - REMOVE ACENTOS DE PALAVRAS\n",
    "  # Função que tira todos os acentos e pontuações de um vetor de strings.\n",
    "  # Parâmetros:\n",
    "  # str - vetor de strings que terão seus acentos retirados.\n",
    "  # patterns - vetor de strings com um ou mais elementos indicando quais acentos deverão ser retirados.\n",
    "  #            Para indicar quais acentos deverão ser retirados, um vetor com os símbolos deverão ser passados.\n",
    "  #            Exemplo: pattern = c(\"´\", \"^\") retirará os acentos agudos e circunflexos apenas.\n",
    "  #            Outras palavras aceitas: \"all\" (retira todos os acentos, que são \"´\", \"'\", \"^\", \"~\", \"¨\", \"ç\")\n",
    "  if(!is.character(str))\n",
    "    str <- as.character(str)\n",
    "\n",
    "  pattern <- unique(pattern)\n",
    "\n",
    "  if(any(pattern==\"Ç\"))\n",
    "    pattern[pattern==\"Ç\"] <- \"ç\"\n",
    "\n",
    "  symbols <- c(\n",
    "    acute = \"áéíóúÁÉÍÓÚýÝ\",\n",
    "    grave = \"àèìòùÀÈÌÒÙ\",\n",
    "    circunflex = \"âêîôûÂÊÎÔÛ\",\n",
    "    tilde = \"ãõÃÕñÑ\",\n",
    "    umlaut = \"äëïöüÄËÏÖÜÿ\",\n",
    "    cedil = \"çÇ\"\n",
    "  )\n",
    "\n",
    "  nudeSymbols <- c(\n",
    "    acute = \"aeiouAEIOUyY\",\n",
    "    grave = \"aeiouAEIOU\",\n",
    "    circunflex = \"aeiouAEIOU\",\n",
    "    tilde = \"aoAOnN\",\n",
    "    umlaut = \"aeiouAEIOUy\",\n",
    "    cedil = \"cC\"\n",
    "  )\n",
    "\n",
    "  accentTypes <- c(\"´\",\"'\",\"^\",\"~\",\"¨\",\"ç\")\n",
    "\n",
    "  if(any(c(\"all\",\"al\",\"a\",\"todos\",\"t\",\"to\",\"tod\",\"todo\")%in%pattern)) # opcao retirar todos\n",
    "    return(chartr(paste(symbols, collapse=\"\"), paste(nudeSymbols, collapse=\"\"), str))\n",
    "\n",
    "  for(i in which(accentTypes%in%pattern))\n",
    "    str <- chartr(symbols[i],nudeSymbols[i], str)\n",
    "\n",
    "  return(str)\n",
    "}"
   ]
  },
  {
   "cell_type": "code",
   "execution_count": 9,
   "metadata": {},
   "outputs": [],
   "source": [
    "clean_string <- function(string){\n",
    "    # Lowercase\n",
    "    temp <- tolower(string)\n",
    "    # Remove everything that is not a number or letter (may want to keep more \n",
    "    # stuff in your actual analyses). \n",
    "    temp <- rm_accent(temp)\n",
    "    temp <- stringr::str_replace_all(temp,\"r\\\\$\", \" \")\n",
    "    temp <- stringr::str_replace_all(temp,\"[^a-zA-Z\\\\s]\", \" \")\n",
    "    # Shrink down to just one white space\n",
    "    temp <- stringr::str_replace_all(temp,\"[\\\\s]+\", \" \")\n",
    "    # Split it\n",
    "    return(temp)\n",
    "}"
   ]
  },
  {
   "cell_type": "code",
   "execution_count": 10,
   "metadata": {},
   "outputs": [],
   "source": [
    "filtered_data$review_text <- clean_string(filtered_data$review_text)"
   ]
  },
  {
   "cell_type": "code",
   "execution_count": 11,
   "metadata": {},
   "outputs": [
    {
     "data": {
      "text/html": [
       "<ol class=list-inline>\n",
       "\t<li>9999</li>\n",
       "\t<li>2</li>\n",
       "</ol>\n"
      ],
      "text/latex": [
       "\\begin{enumerate*}\n",
       "\\item 9999\n",
       "\\item 2\n",
       "\\end{enumerate*}\n"
      ],
      "text/markdown": [
       "1. 9999\n",
       "2. 2\n",
       "\n",
       "\n"
      ],
      "text/plain": [
       "[1] 9999    2"
      ]
     },
     "metadata": {},
     "output_type": "display_data"
    }
   ],
   "source": [
    "dim(filtered_data)"
   ]
  },
  {
   "cell_type": "code",
   "execution_count": 12,
   "metadata": {},
   "outputs": [
    {
     "data": {
      "text/html": [
       "<table>\n",
       "<thead><tr><th scope=col>review_text</th><th scope=col>score</th></tr></thead>\n",
       "<tbody>\n",
       "\t<tr><td>estou contente com a compra entrega rapida o unico problema com as americanas e se houver troca ou devolucao do produto o consumidor tem problemas com espera                                                       </td><td>1                                                                                                                                                                                                                   </td></tr>\n",
       "\t<tr><td>por apenas eu consegui comprar esse lindo copo de acrilico                                                                                                                                                          </td><td>1                                                                                                                                                                                                                   </td></tr>\n",
       "\t<tr><td>supera em agilidade e praticidade outras panelas eletricas costumo usar outra panela para cozimento de arroz japonesa mas leva muito tempo minutos nessa panela e muito mais rapido exatamente minutos eu recomendo </td><td>1                                                                                                                                                                                                                   </td></tr>\n",
       "\t<tr><td>meu filho amou parece de verdade com tantos detalhes que tem                                                                                                                                                        </td><td>1                                                                                                                                                                                                                   </td></tr>\n",
       "\t<tr><td>a entrega foi no prazo as americanas estao de parabens a smart tv e muito boa a navegacao na internete e pelos aplicativos e excelente nao trava sem falar da imagem que e de surpreender recomendo                 </td><td>1                                                                                                                                                                                                                   </td></tr>\n",
       "\t<tr><td>excelente produto por fora em material acrilico super resistente e por dentro em adamantio faz milagre com qualquer bebida sugiro aproveitarem a promocao antes que acabe                                           </td><td>1                                                                                                                                                                                                                   </td></tr>\n",
       "</tbody>\n",
       "</table>\n"
      ],
      "text/latex": [
       "\\begin{tabular}{r|ll}\n",
       " review\\_text & score\\\\\n",
       "\\hline\n",
       "\t estou contente com a compra entrega rapida o unico problema com as americanas e se houver troca ou devolucao do produto o consumidor tem problemas com espera                                                        & 1                                                                                                                                                                                                                   \\\\\n",
       "\t por apenas eu consegui comprar esse lindo copo de acrilico                                                                                                                                                           & 1                                                                                                                                                                                                                   \\\\\n",
       "\t supera em agilidade e praticidade outras panelas eletricas costumo usar outra panela para cozimento de arroz japonesa mas leva muito tempo minutos nessa panela e muito mais rapido exatamente minutos eu recomendo  & 1                                                                                                                                                                                                                   \\\\\n",
       "\t meu filho amou parece de verdade com tantos detalhes que tem                                                                                                                                                         & 1                                                                                                                                                                                                                   \\\\\n",
       "\t a entrega foi no prazo as americanas estao de parabens a smart tv e muito boa a navegacao na internete e pelos aplicativos e excelente nao trava sem falar da imagem que e de surpreender recomendo                  & 1                                                                                                                                                                                                                   \\\\\n",
       "\t excelente produto por fora em material acrilico super resistente e por dentro em adamantio faz milagre com qualquer bebida sugiro aproveitarem a promocao antes que acabe                                            & 1                                                                                                                                                                                                                   \\\\\n",
       "\\end{tabular}\n"
      ],
      "text/markdown": [
       "\n",
       "| review_text | score |\n",
       "|---|---|\n",
       "| estou contente com a compra entrega rapida o unico problema com as americanas e se houver troca ou devolucao do produto o consumidor tem problemas com espera                                                        | 1                                                                                                                                                                                                                    |\n",
       "| por apenas eu consegui comprar esse lindo copo de acrilico                                                                                                                                                           | 1                                                                                                                                                                                                                    |\n",
       "| supera em agilidade e praticidade outras panelas eletricas costumo usar outra panela para cozimento de arroz japonesa mas leva muito tempo minutos nessa panela e muito mais rapido exatamente minutos eu recomendo  | 1                                                                                                                                                                                                                    |\n",
       "| meu filho amou parece de verdade com tantos detalhes que tem                                                                                                                                                         | 1                                                                                                                                                                                                                    |\n",
       "| a entrega foi no prazo as americanas estao de parabens a smart tv e muito boa a navegacao na internete e pelos aplicativos e excelente nao trava sem falar da imagem que e de surpreender recomendo                  | 1                                                                                                                                                                                                                    |\n",
       "| excelente produto por fora em material acrilico super resistente e por dentro em adamantio faz milagre com qualquer bebida sugiro aproveitarem a promocao antes que acabe                                            | 1                                                                                                                                                                                                                    |\n",
       "\n"
      ],
      "text/plain": [
       "  review_text                                                                                                                                                                                                         \n",
       "1 estou contente com a compra entrega rapida o unico problema com as americanas e se houver troca ou devolucao do produto o consumidor tem problemas com espera                                                       \n",
       "2 por apenas eu consegui comprar esse lindo copo de acrilico                                                                                                                                                          \n",
       "3 supera em agilidade e praticidade outras panelas eletricas costumo usar outra panela para cozimento de arroz japonesa mas leva muito tempo minutos nessa panela e muito mais rapido exatamente minutos eu recomendo \n",
       "4 meu filho amou parece de verdade com tantos detalhes que tem                                                                                                                                                        \n",
       "5 a entrega foi no prazo as americanas estao de parabens a smart tv e muito boa a navegacao na internete e pelos aplicativos e excelente nao trava sem falar da imagem que e de surpreender recomendo                 \n",
       "6 excelente produto por fora em material acrilico super resistente e por dentro em adamantio faz milagre com qualquer bebida sugiro aproveitarem a promocao antes que acabe                                           \n",
       "  score\n",
       "1 1    \n",
       "2 1    \n",
       "3 1    \n",
       "4 1    \n",
       "5 1    \n",
       "6 1    "
      ]
     },
     "metadata": {},
     "output_type": "display_data"
    }
   ],
   "source": [
    "head(filtered_data)"
   ]
  },
  {
   "cell_type": "code",
   "execution_count": 13,
   "metadata": {},
   "outputs": [
    {
     "name": "stderr",
     "output_type": "stream",
     "text": [
      "Warning message:\n",
      "“package ‘quanteda’ was built under R version 3.6.2”Registered S3 methods overwritten by 'ggplot2':\n",
      "  method         from \n",
      "  [.quosures     rlang\n",
      "  c.quosures     rlang\n",
      "  print.quosures rlang\n",
      "Package version: 2.0.1\n",
      "Parallel computing: 2 of 4 threads used.\n",
      "See https://quanteda.io for tutorials and examples.\n",
      "\n",
      "Attaching package: ‘quanteda’\n",
      "\n",
      "The following object is masked from ‘jupyter:irkernel’:\n",
      "\n",
      "    View\n",
      "\n",
      "The following object is masked from ‘package:utils’:\n",
      "\n",
      "    View\n",
      "\n"
     ]
    }
   ],
   "source": [
    "library(quanteda)"
   ]
  },
  {
   "cell_type": "code",
   "execution_count": 14,
   "metadata": {},
   "outputs": [
    {
     "name": "stderr",
     "output_type": "stream",
     "text": [
      "\n",
      "Attaching package: ‘dplyr’\n",
      "\n",
      "The following objects are masked from ‘package:stats’:\n",
      "\n",
      "    filter, lag\n",
      "\n",
      "The following objects are masked from ‘package:base’:\n",
      "\n",
      "    intersect, setdiff, setequal, union\n",
      "\n"
     ]
    }
   ],
   "source": [
    "library(dplyr)"
   ]
  },
  {
   "cell_type": "code",
   "execution_count": 15,
   "metadata": {},
   "outputs": [],
   "source": [
    "df_corpus <- filtered_data %>% summarise(text = paste0(review_text, sep = \"\", collapse = \". \"))"
   ]
  },
  {
   "cell_type": "code",
   "execution_count": 16,
   "metadata": {},
   "outputs": [
    {
     "data": {
      "text/html": [
       "<ol class=list-inline>\n",
       "\t<li>1</li>\n",
       "\t<li>1</li>\n",
       "</ol>\n"
      ],
      "text/latex": [
       "\\begin{enumerate*}\n",
       "\\item 1\n",
       "\\item 1\n",
       "\\end{enumerate*}\n"
      ],
      "text/markdown": [
       "1. 1\n",
       "2. 1\n",
       "\n",
       "\n"
      ],
      "text/plain": [
       "[1] 1 1"
      ]
     },
     "metadata": {},
     "output_type": "display_data"
    }
   ],
   "source": [
    "dim(df_corpus)"
   ]
  },
  {
   "cell_type": "code",
   "execution_count": 17,
   "metadata": {},
   "outputs": [],
   "source": [
    "string_sequence <- clean_string(df_corpus$text)"
   ]
  },
  {
   "cell_type": "code",
   "execution_count": 18,
   "metadata": {},
   "outputs": [
    {
     "data": {
      "text/html": [
       "<table>\n",
       "<thead><tr><th scope=col>Text</th><th scope=col>Types</th><th scope=col>Tokens</th><th scope=col>Sentences</th></tr></thead>\n",
       "<tbody>\n",
       "\t<tr><td>text1 </td><td>12291 </td><td>225063</td><td>1     </td></tr>\n",
       "</tbody>\n",
       "</table>\n"
      ],
      "text/latex": [
       "\\begin{tabular}{r|llll}\n",
       " Text & Types & Tokens & Sentences\\\\\n",
       "\\hline\n",
       "\t text1  & 12291  & 225063 & 1     \\\\\n",
       "\\end{tabular}\n"
      ],
      "text/markdown": [
       "\n",
       "| Text | Types | Tokens | Sentences |\n",
       "|---|---|---|---|\n",
       "| text1  | 12291  | 225063 | 1      |\n",
       "\n"
      ],
      "text/plain": [
       "  Text  Types Tokens Sentences\n",
       "1 text1 12291 225063 1        "
      ]
     },
     "metadata": {},
     "output_type": "display_data"
    }
   ],
   "source": [
    "meu_corpus <- corpus(string_sequence)\n",
    "summary(meu_corpus)"
   ]
  },
  {
   "cell_type": "code",
   "execution_count": 19,
   "metadata": {},
   "outputs": [],
   "source": [
    "corpus_dfm <- dfm(meu_corpus, remove_punct = TRUE,\n",
    "                  remove = quanteda::stopwords(\"portuguese\"))"
   ]
  },
  {
   "cell_type": "code",
   "execution_count": 20,
   "metadata": {},
   "outputs": [],
   "source": [
    "sorted_dfm <- dfm_sort(corpus_dfm)[, 1:5000]\n",
    "top_5k_terms <- featnames(sorted_dfm)"
   ]
  },
  {
   "cell_type": "code",
   "execution_count": 21,
   "metadata": {},
   "outputs": [],
   "source": [
    "term <- dfm_select(corpus_dfm, \"contente\")"
   ]
  },
  {
   "cell_type": "code",
   "execution_count": 22,
   "metadata": {},
   "outputs": [
    {
     "data": {
      "text/html": [
       "1"
      ],
      "text/latex": [
       "1"
      ],
      "text/markdown": [
       "1"
      ],
      "text/plain": [
       "[1] 1"
      ]
     },
     "metadata": {},
     "output_type": "display_data"
    }
   ],
   "source": [
    "length(featnames(term))"
   ]
  },
  {
   "cell_type": "code",
   "execution_count": 23,
   "metadata": {},
   "outputs": [
    {
     "data": {
      "text/html": [
       "FALSE"
      ],
      "text/latex": [
       "FALSE"
      ],
      "text/markdown": [
       "FALSE"
      ],
      "text/plain": [
       "[1] FALSE"
      ]
     },
     "metadata": {},
     "output_type": "display_data"
    }
   ],
   "source": [
    "is.na(match(featnames(term), top_5k_terms))"
   ]
  },
  {
   "cell_type": "code",
   "execution_count": 24,
   "metadata": {},
   "outputs": [],
   "source": [
    "vectorize_sequences <- function(sequences, dimension = 5000) {\n",
    "  # Creates an all-zero matrix of shape (length(sequences), dimension)\n",
    "    results <- matrix(0, nrow = length(sequences), ncol = dimension) \n",
    "    for (i in 1:length(sequences)){\n",
    "        splitted_sequence <- stringr::str_split(sequences[[i]], \" \")[[1]]\n",
    "        for (j in 1:length(splitted_sequence)){\n",
    "            term <- dfm_select(corpus_dfm, splitted_sequence[j])\n",
    "            if(! length(featnames(term))==0){\n",
    "                term_rank <- match(featnames(term), top_5k_terms)\n",
    "                if(! is.na(term_rank)){\n",
    "                    print(term_rank)\n",
    "                    # Sets specific indices of results[i] to 1s\n",
    "                    results[i, term_rank] <- 1 \n",
    "                }    \n",
    "            }\n",
    "        }\n",
    "    }\n",
    "    results\n",
    "}"
   ]
  },
  {
   "cell_type": "code",
   "execution_count": null,
   "metadata": {},
   "outputs": [],
   "source": [
    "feature_matrix <- vectorize_sequences(filtered_data$review_text)"
   ]
  },
  {
   "cell_type": "code",
   "execution_count": null,
   "metadata": {},
   "outputs": [],
   "source": [
    "splitted_sequence <- stringr::str_split(string_sequence, \" \")[[1]]"
   ]
  }
 ],
 "metadata": {
  "kernelspec": {
   "display_name": "R",
   "language": "R",
   "name": "ir"
  },
  "language_info": {
   "codemirror_mode": "r",
   "file_extension": ".r",
   "mimetype": "text/x-r-source",
   "name": "R",
   "pygments_lexer": "r",
   "version": "3.6.1"
  }
 },
 "nbformat": 4,
 "nbformat_minor": 4
}
